{
 "metadata": {
  "name": "libstempo-demo"
 },
 "nbformat": 3,
 "nbformat_minor": 0,
 "worksheets": [
  {
   "cells": [
    {
     "cell_type": "heading",
     "level": 2,
     "metadata": {},
     "source": [
      "A demonstration of the libstempo Python interface to tempo2"
     ]
    },
    {
     "cell_type": "heading",
     "level": 4,
     "metadata": {},
     "source": [
      "Michele Vallisneri, vallis@vallis.org, 2013/04/15"
     ]
    },
    {
     "cell_type": "code",
     "collapsed": false,
     "input": [
      "import math, numpy as N, matplotlib.pyplot as P"
     ],
     "language": "python",
     "metadata": {},
     "outputs": [],
     "prompt_number": 2
    },
    {
     "cell_type": "markdown",
     "metadata": {},
     "source": [
      "Load the libstempo Python extension. It requires a source installation of tempo2, as well as current Python and compiler, and the numpy and Cython packages."
     ]
    },
    {
     "cell_type": "code",
     "collapsed": false,
     "input": [
      "import libstempo as T"
     ],
     "language": "python",
     "metadata": {},
     "outputs": [],
     "prompt_number": 3
    },
    {
     "cell_type": "markdown",
     "metadata": {},
     "source": [
      "We load a single-pulsar object. Doing this will automatically run the tempo2 fit routine once."
     ]
    },
    {
     "cell_type": "code",
     "collapsed": false,
     "input": [
      "psr = T.tempopulsar(parfile='../nanograv/par/J1909-3744_NANOGrav_dfg+12.par',timfile='../nanograv/tim/J1909-3744_NANOGrav_dfg+12.tim')"
     ],
     "language": "python",
     "metadata": {},
     "outputs": [],
     "prompt_number": 4
    },
    {
     "cell_type": "markdown",
     "metadata": {},
     "source": [
      "TOAs (in MJD), their errors (in us), and the observation frequencies are directly accessible as numpy arrays, with the native types of the data."
     ]
    },
    {
     "cell_type": "code",
     "collapsed": false,
     "input": [
      "psr.toas"
     ],
     "language": "python",
     "metadata": {},
     "outputs": [
      {
       "output_type": "pyout",
       "prompt_number": 5,
       "text": [
        "array([ 53292.017,  53292.048,  53355.829, ...,  54641.18,  54706.997,\n",
        "        54764.834], dtype=float128)"
       ]
      }
     ],
     "prompt_number": 5
    },
    {
     "cell_type": "code",
     "collapsed": false,
     "input": [
      "psr.toaerrs"
     ],
     "language": "python",
     "metadata": {},
     "outputs": [
      {
       "output_type": "pyout",
       "prompt_number": 6,
       "text": [
        "array([ 1.231,  4.668,  0.453, ...,  0.158,  1.336,  0.316])"
       ]
      }
     ],
     "prompt_number": 6
    },
    {
     "cell_type": "code",
     "collapsed": false,
     "input": [
      "psr.freqs"
     ],
     "language": "python",
     "metadata": {},
     "outputs": [
      {
       "output_type": "pyout",
       "prompt_number": 7,
       "text": [
        "array([ 1372.,  1372.,  1372., ...,   884.,   884.,   884.])"
       ]
      }
     ],
     "prompt_number": 7
    },
    {
     "cell_type": "markdown",
     "metadata": {},
     "source": [
      "Residuals (in seconds) are returned by residuals(). It's a function because the residuals will change when the timing-model parameters are changed (see below)."
     ]
    },
    {
     "cell_type": "code",
     "collapsed": false,
     "input": [
      "psr.residuals()"
     ],
     "language": "python",
     "metadata": {},
     "outputs": [
      {
       "output_type": "pyout",
       "prompt_number": 8,
       "text": [
        "array([-1.1871519e-07,  7.1723802e-06,  1.0685645e-06, ...,  4.0292334e-07,\n",
        "        1.4176866e-06, -4.9944381e-07], dtype=float128)"
       ]
      }
     ],
     "prompt_number": 8
    },
    {
     "cell_type": "markdown",
     "metadata": {},
     "source": [
      "The number of observations is psr.nobs."
     ]
    },
    {
     "cell_type": "code",
     "collapsed": false,
     "input": [
      "psr.nobs, psr.nobs == len(psr.toas)"
     ],
     "language": "python",
     "metadata": {},
     "outputs": [
      {
       "output_type": "pyout",
       "prompt_number": 100,
       "text": [
        "(1001, True)"
       ]
      }
     ],
     "prompt_number": 100
    },
    {
     "cell_type": "markdown",
     "metadata": {},
     "source": [
      "We can plot TOAs vs. residuals, but we should first sort the arrays; otherwise the array follow the order in the tim file, which may not be chronological."
     ]
    },
    {
     "cell_type": "code",
     "collapsed": false,
     "input": [
      "i = N.argsort(psr.toas)\n",
      "\n",
      "P.errorbar(psr.toas[i],psr.residuals()[i],yerr=1e-6*psr.toaerrs[i],fmt='.')"
     ],
     "language": "python",
     "metadata": {},
     "outputs": [
      {
       "output_type": "pyout",
       "prompt_number": 9,
       "text": [
        "<Container object of 3 artists>"
       ]
      },
      {
       "output_type": "display_data",
       "png": "[encoded data removed]"
      }
     ],
     "prompt_number": 9
    },
    {
     "cell_type": "markdown",
     "metadata": {},
     "source": [
      "Timing-model parameters can be accessed by using psr as a Python dictionary."
     ]
    },
    {
     "cell_type": "code",
     "collapsed": false,
     "input": [
      "psr['RAJ'].val, psr['RAJ'].err"
     ],
     "language": "python",
     "metadata": {},
     "outputs": [
      {
       "output_type": "pyout",
       "prompt_number": 10,
       "text": [
        "(5.0169080674065318348, 5.5461506971291368575e-10)"
       ]
      }
     ],
     "prompt_number": 10
    },
    {
     "cell_type": "markdown",
     "metadata": {},
     "source": [
      "The names of all parameters and all fitted parameters are returned by psr.allpars and psr.pars. We show only the first few."
     ]
    },
    {
     "cell_type": "code",
     "collapsed": false,
     "input": [
      "print psr.allpars[:10]\n",
      "print psr.pars[:10]"
     ],
     "language": "python",
     "metadata": {},
     "outputs": [
      {
       "output_type": "stream",
       "stream": "stdout",
       "text": [
        "('RAJ', 'DECJ', 'F0', 'F1', 'PMRA', 'PMDEC', 'PX', 'SINI', 'PB', 'A1')\n",
        "('RAJ', '', 'DECJ', 'F0', 'F1', 'F2', 'F3', 'F4', 'F5', 'F6')\n"
       ]
      }
     ],
     "prompt_number": 40
    },
    {
     "cell_type": "markdown",
     "metadata": {},
     "source": [
      "The number of fitting parameters is in psr.ndim."
     ]
    },
    {
     "cell_type": "code",
     "collapsed": false,
     "input": [
      "psr.ndim, psr.ndim == len(psr.pars)"
     ],
     "language": "python",
     "metadata": {},
     "outputs": [
      {
       "output_type": "pyout",
       "prompt_number": 102,
       "text": [
        "(84, True)"
       ]
      }
     ],
     "prompt_number": 102
    },
    {
     "cell_type": "markdown",
     "metadata": {},
     "source": [
      "The pre-fit parameter values from the par file are also available."
     ]
    },
    {
     "cell_type": "code",
     "collapsed": false,
     "input": [
      "psr.prefit['RAJ'].val, psr.prefit['RAJ'].err"
     ],
     "language": "python",
     "metadata": {},
     "outputs": [
      {
       "output_type": "pyout",
       "prompt_number": 12,
       "text": [
        "(5.0169080674060326785, 1.066218470748522014e-05)"
       ]
      }
     ],
     "prompt_number": 12
    },
    {
     "cell_type": "markdown",
     "metadata": {},
     "source": [
      "Changing the parameter values results in different residuals."
     ]
    },
    {
     "cell_type": "code",
     "collapsed": false,
     "input": [
      "def raj2res(raj):\n",
      "    psr['RAJ'].val = raj\n",
      "    return math.sqrt(N.mean(psr.residuals()**2)) / 1e-6    # rms residual in us\n",
      "\n",
      "x0, dx = psr['RAJ'].val, psr['RAJ'].err\n",
      "x = x0 + dx * N.linspace(-3,3,20)         # we look +/- 3 sigmas around the current value\n",
      "\n",
      "P.plot(x,N.vectorize(raj2res)(x))\n",
      "\n",
      "psr['RAJ'].val = x0                       # restore the original value"
     ],
     "language": "python",
     "metadata": {},
     "outputs": [
      {
       "output_type": "display_data",
       "png": "[encoded data removed]"
      }
     ],
     "prompt_number": 41
    },
    {
     "cell_type": "markdown",
     "metadata": {},
     "source": [
      "We can also call the tempo2 fitting routine, which will fit around the current parameter values, replacing them with their new best values. Individual parameters can be included or excluded in the fitting by setting their 'fit' field."
     ]
    },
    {
     "cell_type": "code",
     "collapsed": false,
     "input": [
      "psr['DM'].fit"
     ],
     "language": "python",
     "metadata": {},
     "outputs": [
      {
       "output_type": "pyout",
       "prompt_number": 84,
       "text": [
        "False"
       ]
      }
     ],
     "prompt_number": 84
    },
    {
     "cell_type": "code",
     "collapsed": false,
     "input": [
      "psr['DM'].fit = True\n",
      "print psr['DM'].val"
     ],
     "language": "python",
     "metadata": {},
     "outputs": [
      {
       "output_type": "stream",
       "stream": "stdout",
       "text": [
        "10.39468\n"
       ]
      }
     ],
     "prompt_number": 87
    },
    {
     "cell_type": "code",
     "collapsed": false,
     "input": [
      "psr.fit()"
     ],
     "language": "python",
     "metadata": {},
     "outputs": [],
     "prompt_number": 88
    },
    {
     "cell_type": "code",
     "collapsed": false,
     "input": [
      "print psr['DM'].val, psr['DM'].err"
     ],
     "language": "python",
     "metadata": {},
     "outputs": [
      {
       "output_type": "stream",
       "stream": "stdout",
       "text": [
        "12.4904667605 2.43947437782\n"
       ]
      }
     ],
     "prompt_number": 92
    },
    {
     "cell_type": "markdown",
     "metadata": {},
     "source": [
      "It's also possible to obtain the design matrix computed at the current parameter values, which has shape `psr.nobs * (len(psr.pars) + 1)`, since a constant offset is always included among the fitting parameters."
     ]
    },
    {
     "cell_type": "code",
     "collapsed": false,
     "input": [
      "psr.designmatrix()"
     ],
     "language": "python",
     "metadata": {},
     "outputs": [
      {
       "output_type": "pyout",
       "prompt_number": 96,
       "text": [
        "array([[   1.        , -390.88745162,  -46.39743491, ...,    0.        ,\n",
        "           0.        ,    0.        ],\n",
        "       [   1.        , -390.86585624,  -46.32303244, ...,    0.        ,\n",
        "           0.        ,    0.        ],\n",
        "       [   1.        , -139.29056076,  100.21105072, ...,    0.        ,\n",
        "           0.        ,    0.        ],\n",
        "       ..., \n",
        "       [   1.        ,   90.59704589, -116.09594607, ...,    0.        ,\n",
        "           1.        ,    0.        ],\n",
        "       [   1.        , -302.3266459 , -129.24374217, ...,    0.        ,\n",
        "           1.        ,    0.        ],\n",
        "       [   1.        , -373.1964543 ,  -16.75100282, ...,    0.        ,\n",
        "           1.        ,    0.        ]])"
       ]
      }
     ],
     "prompt_number": 96
    },
    {
     "cell_type": "markdown",
     "metadata": {},
     "source": [
      "Planned enhancements to the module include multi-pulsar support, as well as par and tim-file writing. Other suggestions are welcome!"
     ]
    }
   ],
   "metadata": {}
  }
 ]
}